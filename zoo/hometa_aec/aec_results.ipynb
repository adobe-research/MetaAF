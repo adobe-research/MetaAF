{
 "cells": [
  {
   "cell_type": "code",
   "execution_count": 127,
   "id": "8abcfa03-806f-4cf7-8177-10d1a1f07551",
   "metadata": {},
   "outputs": [],
   "source": [
    "import pickle\n",
    "import soundfile as sf\n",
    "import numpy as np\n",
    "from os.path import join"
   ]
  },
  {
   "cell_type": "code",
   "execution_count": 128,
   "id": "32439cbf-dac2-493f-b45f-562bfbb3e744",
   "metadata": {},
   "outputs": [],
   "source": [
    "with open(\"vad_results.pkl\",'rb') as f:\n",
    "    vad_array = pickle.load(f)"
   ]
  },
  {
   "cell_type": "code",
   "execution_count": 129,
   "id": "f042cdff-ad39-4e4c-b77f-41806232e0ff",
   "metadata": {},
   "outputs": [],
   "source": [
    "name = \"aec_banded3\"\n",
    "date = \"2022_05_23_00_04_11\"\n",
    "epoch = 137"
   ]
  },
  {
   "cell_type": "code",
   "execution_count": 130,
   "id": "20532388-e9c9-45cd-8a77-f747e4d1e31d",
   "metadata": {},
   "outputs": [],
   "source": [
    "def get_std_metrics(metrics):\n",
    "    means = {}\n",
    "    for k in metrics[0].keys():\n",
    "        means[k] = np.nanstd([m[k] for m in metrics])\n",
    "    return means\n",
    "\n",
    "\n",
    "def get_mean_metrics(metrics):\n",
    "    means = {}\n",
    "    for k in metrics[0].keys():\n",
    "        means[k] = np.nanmean([m[k] for m in metrics])\n",
    "    return means\n",
    "\n",
    "def get_metric(metric_name, print_metric=False):\n",
    "    with open(metric_name,'rb') as f:\n",
    "        metric = pickle.load(f)\n",
    "        if len(metric) == 1:\n",
    "            metric = metric[0]\n",
    "        \n",
    "\n",
    "    mean = get_mean_metrics(metric)\n",
    "    std = get_std_metrics(metric)\n",
    "\n",
    "    if print_metric:\n",
    "        for k in mean.keys():\n",
    "            a_mean, a_sd = mean[k], std[k]\n",
    "            print(f\"{k}:{a_mean:.3f}+-{a_sd:.3f}\")\n",
    "        \n",
    "    return metric, mean, std"
   ]
  },
  {
   "cell_type": "code",
   "execution_count": 131,
   "id": "de9942ad-d662-4e41-a26b-c113cb16fac0",
   "metadata": {},
   "outputs": [],
   "source": [
    "metric, mean, std = get_metric(join(\"outputs\", name, date, f\"epoch_{epoch}\", \"metrics.pkl\"))"
   ]
  },
  {
   "cell_type": "code",
   "execution_count": 134,
   "id": "b5a4ce68-a555-44fe-a277-14386bbe20c2",
   "metadata": {},
   "outputs": [],
   "source": [
    "serle_mean_arr = []\n",
    "for i in range(500):\n",
    "    vad = ~vad_array[i]\n",
    "    serle = metric[i][\"serle\"]\n",
    "    vad_serle = serle[vad == True]\n",
    "    serle_mean_arr.append(np.mean(vad_serle))\n",
    "\n",
    "mean[\"serle\"] = np.mean(serle_mean_arr)\n",
    "std[\"serle\"] = np.std(serle_mean_arr) "
   ]
  },
  {
   "cell_type": "code",
   "execution_count": 135,
   "id": "233f7db5-33d6-4ae2-8fb6-5fa8c7d81c2f",
   "metadata": {},
   "outputs": [
    {
     "data": {
      "text/plain": [
       "{'stoi': 0.8915118174642342,\n",
       " 'erle': 8.148030298875558,\n",
       " 'serle': 11.77748450239448,\n",
       " 'sisdr': 6.404226156042423,\n",
       " 'snr': 6.6060825261862535,\n",
       " 'delta_stoi': 0.1062039650511017,\n",
       " 'delta_erle': 8.14803120866886,\n",
       " 'delta_serle': 10.639130062788754,\n",
       " 'delta_sisdr': 7.558508795825841,\n",
       " 'delta_snr': 7.54501688078258,\n",
       " 'in_stoi': 0.7853078524131326,\n",
       " 'in_erle': -9.097933011037949e-07,\n",
       " 'in_serle': -0.0006030551380225404,\n",
       " 'in_sisdr': -1.1542826397834183,\n",
       " 'in_snr': -0.9389343545963245}"
      ]
     },
     "execution_count": 135,
     "metadata": {},
     "output_type": "execute_result"
    }
   ],
   "source": [
    "mean"
   ]
  }
 ],
 "metadata": {
  "kernelspec": {
   "display_name": "jaxenv",
   "language": "python",
   "name": "jaxenv"
  },
  "language_info": {
   "codemirror_mode": {
    "name": "ipython",
    "version": 3
   },
   "file_extension": ".py",
   "mimetype": "text/x-python",
   "name": "python",
   "nbconvert_exporter": "python",
   "pygments_lexer": "ipython3",
   "version": "3.7.11"
  }
 },
 "nbformat": 4,
 "nbformat_minor": 5
}
