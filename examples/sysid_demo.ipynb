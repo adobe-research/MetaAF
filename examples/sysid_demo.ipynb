{
 "cells": [
  {
   "cell_type": "code",
   "execution_count": 1,
   "id": "88f8c879-41a6-456f-b4a2-74fdce672d17",
   "metadata": {},
   "outputs": [],
   "source": [
    "import os\n",
    "os.environ['CUDA_VISIBLE_DEVICES'] = '4'\n",
    "import numpy as np\n",
    "import matplotlib.pyplot as plt\n",
    "import jax\n",
    "import jax.numpy as jnp\n",
    "import haiku as hk\n",
    "\n",
    "# the metaaf package\n",
    "import metaaf\n",
    "\n",
    "%load_ext autoreload\n",
    "%autoreload 2"
   ]
  },
  {
   "cell_type": "markdown",
   "id": "90e99a24-b3ba-4588-bf51-cbf10ddb632a",
   "metadata": {
    "tags": []
   },
   "source": [
    "## Make The Dataset\n",
    "\n",
    "When you make a metaaf dataset, you write a vanilla pytorch dataset. The dataset should not use jax and must return a dictionary with the keys \"signals\" and \"metadata\". We enforce this format since the \"signals\" are automatically segmented and buffered. In this example, we make a simple system identification dataset which returns signals but not metadata."
   ]
  },
  {
   "cell_type": "code",
   "execution_count": 2,
   "id": "7be95108-2645-498c-98f4-bef70f25c1d3",
   "metadata": {},
   "outputs": [],
   "source": [
    "from torch.utils.data import Dataset\n",
    "\n",
    "# write a vanilla pytorch dataset\n",
    "class SystemIDDataset(Dataset):\n",
    "    def __init__(self, total_size=1024, N=4096, sys_order=32):\n",
    "        self.N = N\n",
    "        self.sys_order = sys_order\n",
    "        self.total_size = total_size\n",
    "\n",
    "    def __len__(self):\n",
    "        return self.total_size\n",
    "\n",
    "    def __getitem__(self, idx):\n",
    "        # the system\n",
    "        w = np.random.normal(size=self.sys_order) / self.sys_order\n",
    "\n",
    "        # the input\n",
    "        u = np.random.normal(size=self.N)\n",
    "\n",
    "        # the output\n",
    "        d = np.convolve(w, u)[: self.N]\n",
    "\n",
    "        # metaaf datasets MUST return a dictionary with two parts\n",
    "        # \"signals\" which will be automatically buffered\n",
    "        # \"metadata\" which is managed by the user\n",
    "        return {\n",
    "            \"signals\": {\n",
    "                \"u\": u[:, None],  # time X channels\n",
    "                \"d\": d[:, None],\n",
    "            },  # time X channels\n",
    "            \"metadata\": {},\n",
    "        }\n"
   ]
  },
  {
   "cell_type": "markdown",
   "id": "c4222498-f483-4ac9-92d9-dc37a09a6303",
   "metadata": {},
   "source": [
    "## Make The Filter\n",
    "\n",
    "The filter is what gets fits to an incoming signal. Metaaf provides wrapper code for a variety of common STFT processing pipelines such a Overlap-Save, Overlap-Add and Weighted Overlap-Add. You can also write your own and use our buffering framework. All filters are written in haiku. When using our wrapper code, the filter much return a dictionary with an \"out\" key. This is what gets used by later STFT processing."
   ]
  },
  {
   "cell_type": "code",
   "execution_count": 3,
   "id": "d491b0e2-0de8-4ce8-a493-c1d0767be125",
   "metadata": {},
   "outputs": [],
   "source": [
    "from metaaf.filter import OverlapSave\n",
    "\n",
    "# the filter inherits from the overlap save modules\n",
    "class SystemID(OverlapSave, hk.Module):\n",
    "    def __init__(self, **kwargs):\n",
    "        super().__init__(**kwargs)\n",
    "        # select the analysize window\n",
    "        self.analysis_window = jnp.ones(self.window_size)\n",
    "\n",
    "    # Since we use the OLS base class, x and y are stft domain inputs.\n",
    "    # The filter msut take the same inputs provided in its _fwd function.\n",
    "    def __ols_call__(self, u, d, metadata):\n",
    "        # collect a buffer sized anti-aliased filter\n",
    "        w = self.get_filter(name=\"w\")\n",
    "\n",
    "        # this is n_frames x n_freq x channels or 1 x F x 1 here\n",
    "        y = w * u\n",
    "        e = y - d\n",
    "\n",
    "        return {\n",
    "            \"out\": y[0],\n",
    "            \"u\": u,\n",
    "            \"d\": d,\n",
    "            \"e\": e,\n",
    "            \"loss\": jnp.vdot(e, e).real / (e.size),  # the MSE of the prediction\n",
    "        }\n",
    "\n",
    "# Haiku converts objects to functions. We need to provide a wrapper to do this.\n",
    "# The wrapper function MUST take as input the same named values from your dataset.\n",
    "def _SystemID_fwd(u, d, metadata=None, init_data=None, **kwargs):\n",
    "    gen_filter = SystemID(**kwargs)\n",
    "    return gen_filter(u=u, d=d)\n",
    "\n",
    "\n",
    "# We also need to define the filter loss\n",
    "def filter_loss(out, data_samples, metadata):\n",
    "    return out[\"loss\"]\n",
    "\n",
    "\n",
    "# And also a meta loss\n",
    "def meta_loss(losses, outputs, data_samples, metadata, outer_learnable):\n",
    "    EPS = 1e-9\n",
    "    return jnp.log(jnp.mean(jnp.abs(outputs - data_samples[\"d\"]) ** 2) + EPS)\n"
   ]
  },
  {
   "cell_type": "markdown",
   "id": "6798735d-64d2-4e11-8d0d-2085e8344b40",
   "metadata": {},
   "source": [
    "# Setup a Meta Trainer\n",
    "\n",
    "Next, we setup all filter keyword arguments. These will be used by the OLS baseclass to correctly buffer inputs and run the online STFT processing. These can also be done via argparse, since all metaaf modules have argparse utilities. Here, we use dictionaries for simplicity."
   ]
  },
  {
   "cell_type": "code",
   "execution_count": 4,
   "id": "5cc48b2a-1464-4e92-b319-26b107a876c1",
   "metadata": {},
   "outputs": [],
   "source": [
    "from metaaf.data import NumpyLoader\n",
    "\n",
    "# Prep any filter arguments. These are going to be STFT processing parameters\n",
    "filter_kwargs = {\n",
    "    \"n_frames\": 1,\n",
    "    \"n_in_chan\": 1,\n",
    "    \"n_out_chan\": 1,\n",
    "    \"window_size\": 64,\n",
    "    \"hop_size\": 32,\n",
    "    \"pad_size\": 0,\n",
    "    \"is_real\": True,\n",
    "}\n",
    "\n",
    "# Prep any optimizer arguments\n",
    "optimizer_kwargs = {\n",
    "    \"h_size\": 16,\n",
    "    \"n_layers\": 1,\n",
    "    \"lam_1\": 1e-2,\n",
    "    \"input_transform\": \"log1p\",\n",
    "}\n",
    "\n",
    "# And initialize our dataloaders using the custom numpyloader wrapper\n",
    "train_loader = NumpyLoader(SystemIDDataset(total_size=1024), batch_size=16)\n",
    "val_loader = NumpyLoader(SystemIDDataset(total_size=128), batch_size=32)\n",
    "test_loader = NumpyLoader(SystemIDDataset(total_size=128), batch_size=32)\n"
   ]
  },
  {
   "cell_type": "markdown",
   "id": "0afb0387-402f-4710-aca2-7e538d877ab7",
   "metadata": {},
   "source": [
    "Now, we create a metaaf system. This system manages the training and will later provide inference utilities. We need to pass it the forward functions, losses, keyword arguments as well as the dataloaders. We'll set some optimizer options. For more advanced functionality, we can write our own forward passes, overridde other options, and even pass in training callbacks. These could do things like save checkpoints, log outputs, and more."
   ]
  },
  {
   "cell_type": "code",
   "execution_count": 5,
   "id": "719a74ec-b86d-4f63-bf84-d36cc4364f21",
   "metadata": {},
   "outputs": [],
   "source": [
    "from metaaf.meta import MetaAFTrainer\n",
    "system = MetaAFTrainer(\n",
    "    _filter_fwd=_SystemID_fwd,\n",
    "    filter_kwargs=filter_kwargs,\n",
    "    filter_loss=filter_loss,\n",
    "    meta_train_loss=meta_loss,\n",
    "    meta_val_loss=meta_loss,\n",
    "    optimizer_kwargs=optimizer_kwargs,\n",
    "    train_loader=train_loader,\n",
    "    val_loader=val_loader,\n",
    "    test_loader=test_loader,\n",
    ")\n"
   ]
  },
  {
   "cell_type": "markdown",
   "id": "c6afde1d-3e1b-41b7-a8d7-ee44521f2ef7",
   "metadata": {},
   "source": [
    "# Train!\n",
    "\n",
    "Finally, we can train the system. Simply run system.train and pass in training parameters such as the optimizer, learning rate, early stopping information, and more."
   ]
  },
  {
   "cell_type": "code",
   "execution_count": 6,
   "id": "124f3a05-55d7-48cc-ae07-59e176f9fb24",
   "metadata": {
    "tags": []
   },
   "outputs": [
    {
     "name": "stdout",
     "output_type": "stream",
     "text": [
      "Total of - 1905 - Trainable Parameters\n"
     ]
    },
    {
     "data": {
      "application/vnd.jupyter.widget-view+json": {
       "model_id": "9ac037a3ca394989a512817a2b6e526f",
       "version_major": 2,
       "version_minor": 0
      },
      "text/plain": [
       "Epoch Loop:   0%|          | 0/21 [00:00<?, ?it/s]"
      ]
     },
     "metadata": {},
     "output_type": "display_data"
    },
    {
     "data": {
      "application/vnd.jupyter.widget-view+json": {
       "model_id": "",
       "version_major": 2,
       "version_minor": 0
      },
      "text/plain": [
       "Batch Loop:   0%|          | 0/64 [00:00<?, ?it/s]"
      ]
     },
     "metadata": {},
     "output_type": "display_data"
    },
    {
     "data": {
      "application/vnd.jupyter.widget-view+json": {
       "model_id": "",
       "version_major": 2,
       "version_minor": 0
      },
      "text/plain": [
       "Batch Loop:   0%|          | 0/64 [00:00<?, ?it/s]"
      ]
     },
     "metadata": {},
     "output_type": "display_data"
    },
    {
     "data": {
      "application/vnd.jupyter.widget-view+json": {
       "model_id": "",
       "version_major": 2,
       "version_minor": 0
      },
      "text/plain": [
       "Batch Loop:   0%|          | 0/64 [00:00<?, ?it/s]"
      ]
     },
     "metadata": {},
     "output_type": "display_data"
    },
    {
     "data": {
      "application/vnd.jupyter.widget-view+json": {
       "model_id": "",
       "version_major": 2,
       "version_minor": 0
      },
      "text/plain": [
       "Batch Loop:   0%|          | 0/64 [00:00<?, ?it/s]"
      ]
     },
     "metadata": {},
     "output_type": "display_data"
    },
    {
     "data": {
      "application/vnd.jupyter.widget-view+json": {
       "model_id": "",
       "version_major": 2,
       "version_minor": 0
      },
      "text/plain": [
       "Batch Loop:   0%|          | 0/64 [00:00<?, ?it/s]"
      ]
     },
     "metadata": {},
     "output_type": "display_data"
    },
    {
     "data": {
      "application/vnd.jupyter.widget-view+json": {
       "model_id": "",
       "version_major": 2,
       "version_minor": 0
      },
      "text/plain": [
       "Batch Loop:   0%|          | 0/64 [00:00<?, ?it/s]"
      ]
     },
     "metadata": {},
     "output_type": "display_data"
    },
    {
     "data": {
      "application/vnd.jupyter.widget-view+json": {
       "model_id": "",
       "version_major": 2,
       "version_minor": 0
      },
      "text/plain": [
       "Batch Loop:   0%|          | 0/64 [00:00<?, ?it/s]"
      ]
     },
     "metadata": {},
     "output_type": "display_data"
    },
    {
     "data": {
      "application/vnd.jupyter.widget-view+json": {
       "model_id": "",
       "version_major": 2,
       "version_minor": 0
      },
      "text/plain": [
       "Batch Loop:   0%|          | 0/64 [00:00<?, ?it/s]"
      ]
     },
     "metadata": {},
     "output_type": "display_data"
    },
    {
     "data": {
      "application/vnd.jupyter.widget-view+json": {
       "model_id": "",
       "version_major": 2,
       "version_minor": 0
      },
      "text/plain": [
       "Batch Loop:   0%|          | 0/64 [00:00<?, ?it/s]"
      ]
     },
     "metadata": {},
     "output_type": "display_data"
    },
    {
     "data": {
      "application/vnd.jupyter.widget-view+json": {
       "model_id": "",
       "version_major": 2,
       "version_minor": 0
      },
      "text/plain": [
       "Batch Loop:   0%|          | 0/64 [00:00<?, ?it/s]"
      ]
     },
     "metadata": {},
     "output_type": "display_data"
    },
    {
     "data": {
      "application/vnd.jupyter.widget-view+json": {
       "model_id": "",
       "version_major": 2,
       "version_minor": 0
      },
      "text/plain": [
       "Batch Loop:   0%|          | 0/64 [00:00<?, ?it/s]"
      ]
     },
     "metadata": {},
     "output_type": "display_data"
    },
    {
     "data": {
      "application/vnd.jupyter.widget-view+json": {
       "model_id": "",
       "version_major": 2,
       "version_minor": 0
      },
      "text/plain": [
       "Batch Loop:   0%|          | 0/64 [00:00<?, ?it/s]"
      ]
     },
     "metadata": {},
     "output_type": "display_data"
    },
    {
     "data": {
      "application/vnd.jupyter.widget-view+json": {
       "model_id": "",
       "version_major": 2,
       "version_minor": 0
      },
      "text/plain": [
       "Batch Loop:   0%|          | 0/64 [00:00<?, ?it/s]"
      ]
     },
     "metadata": {},
     "output_type": "display_data"
    },
    {
     "data": {
      "application/vnd.jupyter.widget-view+json": {
       "model_id": "",
       "version_major": 2,
       "version_minor": 0
      },
      "text/plain": [
       "Batch Loop:   0%|          | 0/64 [00:00<?, ?it/s]"
      ]
     },
     "metadata": {},
     "output_type": "display_data"
    },
    {
     "data": {
      "application/vnd.jupyter.widget-view+json": {
       "model_id": "",
       "version_major": 2,
       "version_minor": 0
      },
      "text/plain": [
       "Batch Loop:   0%|          | 0/64 [00:00<?, ?it/s]"
      ]
     },
     "metadata": {},
     "output_type": "display_data"
    },
    {
     "data": {
      "application/vnd.jupyter.widget-view+json": {
       "model_id": "",
       "version_major": 2,
       "version_minor": 0
      },
      "text/plain": [
       "Batch Loop:   0%|          | 0/64 [00:00<?, ?it/s]"
      ]
     },
     "metadata": {},
     "output_type": "display_data"
    },
    {
     "data": {
      "application/vnd.jupyter.widget-view+json": {
       "model_id": "",
       "version_major": 2,
       "version_minor": 0
      },
      "text/plain": [
       "Batch Loop:   0%|          | 0/64 [00:00<?, ?it/s]"
      ]
     },
     "metadata": {},
     "output_type": "display_data"
    },
    {
     "data": {
      "application/vnd.jupyter.widget-view+json": {
       "model_id": "",
       "version_major": 2,
       "version_minor": 0
      },
      "text/plain": [
       "Batch Loop:   0%|          | 0/64 [00:00<?, ?it/s]"
      ]
     },
     "metadata": {},
     "output_type": "display_data"
    },
    {
     "data": {
      "application/vnd.jupyter.widget-view+json": {
       "model_id": "",
       "version_major": 2,
       "version_minor": 0
      },
      "text/plain": [
       "Batch Loop:   0%|          | 0/64 [00:00<?, ?it/s]"
      ]
     },
     "metadata": {},
     "output_type": "display_data"
    },
    {
     "data": {
      "application/vnd.jupyter.widget-view+json": {
       "model_id": "",
       "version_major": 2,
       "version_minor": 0
      },
      "text/plain": [
       "Batch Loop:   0%|          | 0/64 [00:00<?, ?it/s]"
      ]
     },
     "metadata": {},
     "output_type": "display_data"
    },
    {
     "data": {
      "application/vnd.jupyter.widget-view+json": {
       "model_id": "",
       "version_major": 2,
       "version_minor": 0
      },
      "text/plain": [
       "Batch Loop:   0%|          | 0/64 [00:00<?, ?it/s]"
      ]
     },
     "metadata": {},
     "output_type": "display_data"
    }
   ],
   "source": [
    "key = jax.random.PRNGKey(0)\n",
    "key, subkey = jax.random.split(key)\n",
    "\n",
    "outer_learned, (train_loss, val_loss) = system.train(\n",
    "    total_epochs=21, val_period=10, key=subkey\n",
    ")\n"
   ]
  },
  {
   "cell_type": "code",
   "execution_count": 7,
   "id": "520f2fd5-adc4-4b3b-871f-f11c628c6949",
   "metadata": {},
   "outputs": [
    {
     "data": {
      "image/png": "[encoded data removed]",
      "text/plain": [
       "<Figure size 432x288 with 2 Axes>"
      ]
     },
     "metadata": {
      "needs_background": "light"
     },
     "output_type": "display_data"
    }
   ],
   "source": [
    "fig, ax = plt.subplots(1, 2)\n",
    "ax[0].plot(train_loss.mean(1))\n",
    "ax[0].set_title(\"Train Loss Across Epochs\")\n",
    "\n",
    "ax[1].plot(val_loss)\n",
    "ax[1].set_title(\"Val Loss Across Epochs\")\n",
    "\n",
    "plt.tight_layout()\n",
    "plt.show()\n"
   ]
  },
  {
   "cell_type": "markdown",
   "id": "7f01d203-6786-409a-8582-9983298492ef",
   "metadata": {},
   "source": [
    "# Using a Trained Model\n",
    "\n",
    "## Offline Mode\n",
    "Once training has finished, the autodsp system has functionality for both batch and online inference. For batch inference, we can just use the system.infer function and pass in the current data as well as the final learned parameters. It will return the predictions as well as other auxilliary outputs like losses, additional filter outputs, and the final filter state."
   ]
  },
  {
   "cell_type": "code",
   "execution_count": 8,
   "id": "685bf643-a941-48bb-b013-8c17b4720bb7",
   "metadata": {},
   "outputs": [
    {
     "data": {
      "image/png": "[encoded data removed]",
      "text/plain": [
       "<Figure size 432x288 with 1 Axes>"
      ]
     },
     "metadata": {
      "needs_background": "light"
     },
     "output_type": "display_data"
    }
   ],
   "source": [
    "data = next(iter(system.val_loader))\n",
    "data_dict = {\"u\": data[\"signals\"][\"u\"][0:1], \"d\": data[\"signals\"][\"d\"][0:1]}\n",
    "\n",
    "offline_pred, aux = system.infer({\"signals\": data_dict, \"metadata\": {}}, outer_learned)\n",
    "outer_loss, inner_loss, extra_outs, final_state = aux\n",
    "\n",
    "\n",
    "plt.plot(offline_pred[0, :, 0], label=\"Predictions\")\n",
    "plt.plot(data_dict[\"d\"][0, :, 0], alpha=0.5, label=\"Desired\")\n",
    "plt.legend()\n",
    "plt.title(\"Predictions vs Desired\")\n",
    "plt.show()\n"
   ]
  },
  {
   "cell_type": "markdown",
   "id": "911ca5ea-067a-4e2b-88de-50ca2c1c5265",
   "metadata": {},
   "source": [
    "## Online Mode\n",
    "\n",
    "For online inference, the metaaf system can generate an online_step function and an initial state. We can use this online_step function by passing in hop_size inputs chunks form some audio buffer."
   ]
  },
  {
   "cell_type": "code",
   "execution_count": 9,
   "id": "4f6671d8-2af7-43f8-aa02-058723de3a39",
   "metadata": {},
   "outputs": [
    {
     "data": {
      "image/png": "[encoded data removed]",
      "text/plain": [
       "<Figure size 432x288 with 1 Axes>"
      ]
     },
     "metadata": {
      "needs_background": "light"
     },
     "output_type": "display_data"
    }
   ],
   "source": [
    "online_step, state = system.make_online_infer(outer_learned)\n",
    "hop_size = filter_kwargs[\"hop_size\"]\n",
    "\n",
    "preds = []\n",
    "for i in range(0, len(data[\"signals\"][\"u\"][0]) - 2 * hop_size, hop_size):\n",
    "    cur_data = {\n",
    "        \"signals\": {\n",
    "            \"u\": data[\"signals\"][\"u\"][0, i : i + hop_size],\n",
    "            \"d\": data[\"signals\"][\"d\"][0, i : i + hop_size],\n",
    "        },\n",
    "        \"metadata\": {},\n",
    "    }\n",
    "    pred, loss, state = online_step(state, batch=cur_data, key=jax.random.PRNGKey(0))\n",
    "\n",
    "    preds.append(pred[\"out\"])\n",
    "preds = np.array(preds).flatten()\n",
    "\n",
    "plt.plot(preds, label=\"Online\")\n",
    "plt.plot(offline_pred[0, :, 0], label=\"Batch\")\n",
    "plt.title(\"Online vs Batch Inference\")\n",
    "plt.legend()\n",
    "plt.show()\n"
   ]
  },
  {
   "cell_type": "markdown",
   "id": "7e7db45a-0531-4105-8e8c-7ae0a58402ba",
   "metadata": {},
   "source": [
    "## Inspecting The Filter Parameters\n",
    "\n",
    "We can also inspect the filter parameters. Here, we plot the final filter along with the true system."
   ]
  },
  {
   "cell_type": "code",
   "execution_count": 10,
   "id": "df8d6686-4b67-41ed-a214-40d27f4240a7",
   "metadata": {},
   "outputs": [
    {
     "data": {
      "image/png": "[encoded data removed]",
      "text/plain": [
       "<Figure size 432x288 with 1 Axes>"
      ]
     },
     "metadata": {
      "needs_background": "light"
     },
     "output_type": "display_data"
    }
   ],
   "source": [
    "w = np.random.normal(size=32) / 32\n",
    "u = np.random.normal(size=2048)\n",
    "d = np.convolve(w, u)[: len(u)]\n",
    "\n",
    "data_dict = {\"u\": u[None, :, None], \"d\": d[None, :, None]}\n",
    "\n",
    "offline_pred, aux = system.infer({\"signals\": data_dict, \"metadata\": {}}, outer_learned)\n",
    "outer_loss, inner_loss, extra_outs, final_state = aux\n",
    "\n",
    "w_hat = jnp.fft.irfft(jax.tree_util.tree_flatten(final_state[1])[0][0][0][0, :, 0])\n",
    "w_hat = w_hat[: len(w_hat) // 2]\n",
    "\n",
    "plt.plot(w, label=\"True System\")\n",
    "plt.plot(w_hat, label=\"Meta-AF\")\n",
    "plt.title(\"Recovered vs True System\")\n",
    "plt.legend()\n",
    "plt.show()\n"
   ]
  },
  {
   "cell_type": "code",
   "execution_count": null,
   "id": "7a0ef34d-ddc9-4950-99fc-f15455a443f5",
   "metadata": {},
   "outputs": [],
   "source": []
  }
 ],
 "metadata": {
  "kernelspec": {
   "display_name": "jaxenv",
   "language": "python",
   "name": "jaxenv"
  },
  "language_info": {
   "codemirror_mode": {
    "name": "ipython",
    "version": 3
   },
   "file_extension": ".py",
   "mimetype": "text/x-python",
   "name": "python",
   "nbconvert_exporter": "python",
   "pygments_lexer": "ipython3",
   "version": "3.7.11"
  }
 },
 "nbformat": 4,
 "nbformat_minor": 5
}
